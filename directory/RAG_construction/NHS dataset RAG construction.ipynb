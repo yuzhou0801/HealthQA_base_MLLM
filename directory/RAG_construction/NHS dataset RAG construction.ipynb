{
 "cells": [
  {
   "cell_type": "code",
   "execution_count": 1,
   "id": "38b46350-e45b-4e2a-b3b2-94e30b69b864",
   "metadata": {},
   "outputs": [
    {
     "name": "stdout",
     "output_type": "stream",
     "text": [
      "\n",
      "计算文本嵌入中...\n"
     ]
    },
    {
     "name": "stderr",
     "output_type": "stream",
     "text": [
      "嵌入计算: 100%|██████████| 411/411 [00:06<00:00, 65.53it/s]"
     ]
    },
    {
     "name": "stdout",
     "output_type": "stream",
     "text": [
      "\n",
      "构建 FAISS 索引中...\n",
      "\n",
      "保存 FAISS 索引和文本数据...\n",
      "✅ 本地文本检索系统构建完成！\n"
     ]
    },
    {
     "name": "stderr",
     "output_type": "stream",
     "text": [
      "\n"
     ]
    }
   ],
   "source": [
    "import json\n",
    "import torch\n",
    "import numpy as np\n",
    "import faiss\n",
    "from tqdm import tqdm\n",
    "from transformers import BertTokenizer, BertModel\n",
    "\n",
    "# **本地加载 BERT**\n",
    "LOCAL_MODEL_PATH = \"/root/autodl-tmp/all-MiniLM-L6-v2\"  # 请修改为本地模型路径\n",
    "\n",
    "# 加载本地 tokenizer 和模型\n",
    "tokenizer = BertTokenizer.from_pretrained(LOCAL_MODEL_PATH)\n",
    "model = BertModel.from_pretrained(LOCAL_MODEL_PATH)\n",
    "\n",
    "# 加载文本数据\n",
    "def load_text_data(json_file):\n",
    "    with open(json_file, \"r\", encoding=\"utf-8\") as f:\n",
    "        data = json.load(f)\n",
    "    \n",
    "    texts = []\n",
    "    for item in data:\n",
    "        # 将 Disease、Symptoms 和 Treatments 组合成一个文本块\n",
    "        disease = item.get(\"Disease\", \"\")\n",
    "        symptoms = \" \".join(item.get(\"Symptoms\", []))\n",
    "        treatments = \" \".join(item.get(\"Treatments\", []))\n",
    "        combined_text = f\"Disease: {disease}\\nSymptoms: {symptoms}\\nTreatments: {treatments}\"\n",
    "        texts.append(combined_text)\n",
    "    return texts\n",
    "\n",
    "# 计算 BERT 文本嵌入，支持本地运行\n",
    "def get_embedding(text):\n",
    "    inputs = tokenizer(text, return_tensors=\"pt\", truncation=True, padding=True, max_length=512)\n",
    "    with torch.no_grad():\n",
    "        outputs = model(**inputs)\n",
    "    return outputs.last_hidden_state[:, 0, :].squeeze().numpy()  # 取 [CLS] 作为句子向量\n",
    "\n",
    "# 构建 FAISS 索引，带进度条\n",
    "def build_faiss_index(texts):\n",
    "    print(\"\\n计算文本嵌入中...\")\n",
    "    embeddings = np.array([get_embedding(text) for text in tqdm(texts, desc=\"嵌入计算\")], dtype=\"float32\")\n",
    "    \n",
    "    print(\"\\n构建 FAISS 索引中...\")\n",
    "    dimension = embeddings.shape[1]\n",
    "    index = faiss.IndexFlatL2(dimension)\n",
    "    index.add(embeddings)\n",
    "    return index, texts\n",
    "\n",
    "# 保存 FAISS 索引和文本数据\n",
    "def save_retrieval_system(index, texts, index_file, texts_file):\n",
    "    print(\"\\n保存 FAISS 索引和文本数据...\")\n",
    "    faiss.write_index(index, index_file)\n",
    "    \n",
    "    # 将文本数据保存到新的 JSON 文件\n",
    "    with open(texts_file, \"w\", encoding=\"utf-8\") as f:\n",
    "        json.dump(texts, f, ensure_ascii=False, indent=4)\n",
    "    print(\"✅ 本地文本检索系统构建完成！\")\n",
    "\n",
    "# **主函数**：本地运行\n",
    "def build_and_save_text_retrieval_system(json_file, index_file, texts_file):\n",
    "    texts = load_text_data(json_file)\n",
    "    index, texts = build_faiss_index(texts)\n",
    "    save_retrieval_system(index, texts, index_file, texts_file)\n",
    "\n",
    "# 本地数据路径（请修改为本地路径）\n",
    "text_data_file = \"/root/autodl-tmp/NHS_Data.json\"  # 输入文件路径\n",
    "text_index_file = \"/root/autodl-tmp/NHS_text_index.faiss\"  # 输出 FAISS 索引文件路径\n",
    "text_texts_file = \"/root/autodl-tmp/NHS_text_texts.json\"   # 输出文本数据文件路径\n",
    "\n",
    "# 运行：构建索引并保存\n",
    "build_and_save_text_retrieval_system(text_data_file, text_index_file, text_texts_file)"
   ]
  }
 ],
 "metadata": {
  "kernelspec": {
   "display_name": "Python 3 (ipykernel)",
   "language": "python",
   "name": "python3"
  },
  "language_info": {
   "codemirror_mode": {
    "name": "ipython",
    "version": 3
   },
   "file_extension": ".py",
   "mimetype": "text/x-python",
   "name": "python",
   "nbconvert_exporter": "python",
   "pygments_lexer": "ipython3",
   "version": "3.12.3"
  }
 },
 "nbformat": 4,
 "nbformat_minor": 5
}
